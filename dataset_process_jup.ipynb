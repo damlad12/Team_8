{
 "cells": [
  {
   "cell_type": "code",
   "execution_count": 1,
   "metadata": {},
   "outputs": [],
   "source": [
    "import pandas as pd\n",
    "from collections import defaultdict"
   ]
  },
  {
   "cell_type": "code",
   "execution_count": 12,
   "metadata": {},
   "outputs": [],
   "source": [
    "chunk_size = 10000\n",
    "file_path = r'C:/Users/leekh/OneDrive/Documents/movies.txt'\n",
    "sample_file_path = r'C:/Users/leekh/OneDrive/Documents/movies_samples.csv'"
   ]
  },
  {
   "cell_type": "code",
   "execution_count": 19,
   "metadata": {},
   "outputs": [],
   "source": [
    "# Initialize variables\n",
    "parsed_data = []\n",
    "user_review_counts = {}\n",
    "record_count = 0\n",
    "max_records = 100000  # Stop after processing 100,000 reviews (adjust as needed)\n",
    "# Step 1: Parse the file and accumulate review counts\n",
    "with open(file_path, 'r', encoding='ISO-8859-1') as file:\n",
    "    record = {}\n",
    "    for line in file:\n",
    "        line = line.strip()  # Remove extra whitespace\n",
    "        if not line:  # Empty line indicates end of a record\n",
    "            if record:  # Save the completed record\n",
    "                user_id = record.get('review/userId', None)\n",
    "                if user_id:\n",
    "                    user_review_counts[user_id] = user_review_counts.get(user_id, 0) + 1\n",
    "                parsed_data.append({\n",
    "                    \"review/userId\": record.get('review/userId'),\n",
    "                    \"review/score\": float(record.get('review/score', 0)),\n",
    "                    \"review/summary\": record.get('review/summary'),\n",
    "                    \"review/text\" : record.get('review/text')  # Assuming this contains the movie title\n",
    "                })\n",
    "                record = {}\n",
    "                record_count += 1\n",
    "                if record_count >= max_records:\n",
    "                    break  # Stop after processing max_records\n",
    "        elif \":\" in line:\n",
    "            key, value = line.split(\":\", 1)  # Split key and value\n",
    "            record[key.strip()] = value.strip()"
   ]
  },
  {
   "cell_type": "code",
   "execution_count": 20,
   "metadata": {},
   "outputs": [
    {
     "name": "stdout",
     "output_type": "stream",
     "text": [
      "Number of users with more than 50 reviews: 38\n",
      "Filtered sample file created: C:/Users/leekh/OneDrive/Documents/movies_samples.csv\n"
     ]
    }
   ],
   "source": [
    "# Step 2: Identify users with more than 50 reviews\n",
    "users_with_more_than_50_reviews = {user for user, count in user_review_counts.items() if count > 50}\n",
    "print(f\"Number of users with more than 50 reviews: {len(users_with_more_than_50_reviews)}\")\n",
    "\n",
    "# Step 3: Filter the parsed data for these users\n",
    "filtered_data = [record for record in parsed_data if record.get('review/userId') in users_with_more_than_50_reviews]\n",
    "\n",
    "# Step 4: Convert to a DataFrame and save\n",
    "df = pd.DataFrame(filtered_data)\n",
    "\n",
    "df = df.sort_values(by='review/userId')\n",
    "\n",
    "# Save a smaller sample to a new file\n",
    "sample_df = df.sample(n=10000, random_state=42) if len(df) > 10000 else df  # Randomly sample or use the full DataFrame if smaller\n",
    "sample_df.to_csv(sample_file_path, sep='\\t', index=False, encoding='ISO-8859-1')\n",
    "\n",
    "print(f\"Filtered sample file created: {sample_file_path}\")"
   ]
  },
  {
   "cell_type": "code",
   "execution_count": null,
   "metadata": {},
   "outputs": [],
   "source": [
    "file_path = r'C:/Users/leekh/OneDrive/Documents/movies_samples.csv'\n",
    "data = pd.read_csv(file_path)\n",
    "\n",
    "# Define the rating threshold\n",
    "preference_threshold = 4.0\n",
    "\n",
    "# Create dictionaries to hold preferences and unpreferences\n",
    "user_preferences = defaultdict(list)\n",
    "user_unpreferences = defaultdict(list)\n",
    "\n",
    "# Populate preferences and unpreferences based on rating\n",
    "for _, row in data.iterrows():\n",
    "    user_id = row['review/userId']\n",
    "    movie_title = row['review/summary']  # Assuming 'summary' field has the movie title\n",
    "    rating = row['review/score']\n",
    "    \n",
    "    if rating >= preference_threshold:\n",
    "        user_preferences[user_id].append(movie_title)\n",
    "    else:\n",
    "        user_unpreferences[user_id].append(movie_title)\n",
    "\n",
    "# Construct TallRec-compatible structure\n",
    "tallrec_data = []\n",
    "\n",
    "for user_id in user_preferences.keys():\n",
    "    # Skip users without both preference and unpreference lists\n",
    "    if not user_preferences[user_id] or not user_unpreferences[user_id]:\n",
    "        continue\n",
    "    \n",
    "    example = {\n",
    "        \"instruction\": \"Given the user's preference and unpreference, identify whether the user will like the target movie by answering \\\"Yes.\\\" or \\\"No.\\\".\",\n",
    "        \"input\": f\"User Preference: {', '.join(user_preferences[user_id])}\\nUser Unpreference: {', '.join(user_unpreferences[user_id])}\\nWhether the user will like the target movie \\\"Example Movie\\\"?\",\n",
    "        \"output\": \"Yes.\"  # Or dynamically determine based on trends\n",
    "    }\n",
    "    \n",
    "    tallrec_data.append(example)\n",
    "\n",
    "# Convert to DataFrame or JSON for export\n",
    "tallrec_df = pd.DataFrame(tallrec_data)\n",
    "tallrec_df.to_json('tallrec_formatted_data.json', orient='records', lines=True)\n",
    "\n",
    "print(\"TallRec-compatible data has been saved to 'tallrec_formatted_data.json'.\")"
   ]
  }
 ],
 "metadata": {
  "kernelspec": {
   "display_name": "Python 3",
   "language": "python",
   "name": "python3"
  },
  "language_info": {
   "codemirror_mode": {
    "name": "ipython",
    "version": 3
   },
   "file_extension": ".py",
   "mimetype": "text/x-python",
   "name": "python",
   "nbconvert_exporter": "python",
   "pygments_lexer": "ipython3",
   "version": "3.11.5"
  }
 },
 "nbformat": 4,
 "nbformat_minor": 2
}
